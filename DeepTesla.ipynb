{
 "cells": [
  {
   "cell_type": "markdown",
   "metadata": {},
   "source": [
    "# DeepTesla"
   ]
  },
  {
   "cell_type": "markdown",
   "metadata": {},
   "source": [
    "## 数据预处理"
   ]
  },
  {
   "cell_type": "code",
   "execution_count": 3,
   "metadata": {},
   "outputs": [],
   "source": [
    "import skvideo.io\n",
    "import cv2\n",
    "import os, sys\n",
    "import pandas as pd\n",
    "from tqdm import *"
   ]
  },
  {
   "cell_type": "code",
   "execution_count": 2,
   "metadata": {},
   "outputs": [
    {
     "name": "stderr",
     "output_type": "stream",
     "text": [
      "\r",
      "  0%|          | 0/10 [00:00<?, ?it/s]"
     ]
    },
    {
     "name": "stdout",
     "output_type": "stream",
     "text": [
      "Extracting video: /home/meirtz/Desktop/mlnd/DeepTesla/data/epoch01_front.mkv.\n"
     ]
    },
    {
     "name": "stderr",
     "output_type": "stream",
     "text": [
      "\r",
      " 10%|█         | 1/10 [00:35<05:16, 35.12s/it]"
     ]
    },
    {
     "name": "stdout",
     "output_type": "stream",
     "text": [
      "Extracting video: /home/meirtz/Desktop/mlnd/DeepTesla/data/epoch02_front.mkv.\n"
     ]
    },
    {
     "name": "stderr",
     "output_type": "stream",
     "text": [
      "\r",
      " 20%|██        | 2/10 [02:00<06:40, 50.07s/it]"
     ]
    },
    {
     "name": "stdout",
     "output_type": "stream",
     "text": [
      "Extracting video: /home/meirtz/Desktop/mlnd/DeepTesla/data/epoch03_front.mkv.\n"
     ]
    },
    {
     "name": "stderr",
     "output_type": "stream",
     "text": [
      "\r",
      " 30%|███       | 3/10 [03:09<06:30, 55.73s/it]"
     ]
    },
    {
     "name": "stdout",
     "output_type": "stream",
     "text": [
      "Extracting video: /home/meirtz/Desktop/mlnd/DeepTesla/data/epoch04_front.mkv.\n"
     ]
    },
    {
     "name": "stderr",
     "output_type": "stream",
     "text": [
      "\r",
      " 40%|████      | 4/10 [04:15<05:53, 58.99s/it]"
     ]
    },
    {
     "name": "stdout",
     "output_type": "stream",
     "text": [
      "Extracting video: /home/meirtz/Desktop/mlnd/DeepTesla/data/epoch05_front.mkv.\n"
     ]
    },
    {
     "name": "stderr",
     "output_type": "stream",
     "text": [
      "\r",
      " 50%|█████     | 5/10 [05:23<05:07, 61.55s/it]"
     ]
    },
    {
     "name": "stdout",
     "output_type": "stream",
     "text": [
      "Extracting video: /home/meirtz/Desktop/mlnd/DeepTesla/data/epoch06_front.mkv.\n"
     ]
    },
    {
     "name": "stderr",
     "output_type": "stream",
     "text": [
      "\r",
      " 60%|██████    | 6/10 [06:29<04:12, 63.09s/it]"
     ]
    },
    {
     "name": "stdout",
     "output_type": "stream",
     "text": [
      "Extracting video: /home/meirtz/Desktop/mlnd/DeepTesla/data/epoch07_front.mkv.\n"
     ]
    },
    {
     "name": "stderr",
     "output_type": "stream",
     "text": [
      "\r",
      " 70%|███████   | 7/10 [07:38<03:14, 64.71s/it]"
     ]
    },
    {
     "name": "stdout",
     "output_type": "stream",
     "text": [
      "Extracting video: /home/meirtz/Desktop/mlnd/DeepTesla/data/epoch08_front.mkv.\n"
     ]
    },
    {
     "name": "stderr",
     "output_type": "stream",
     "text": [
      "\r",
      " 80%|████████  | 8/10 [08:45<02:11, 65.60s/it]"
     ]
    },
    {
     "name": "stdout",
     "output_type": "stream",
     "text": [
      "Extracting video: /home/meirtz/Desktop/mlnd/DeepTesla/data/epoch09_front.mkv.\n"
     ]
    },
    {
     "name": "stderr",
     "output_type": "stream",
     "text": [
      "\r",
      " 90%|█████████ | 9/10 [09:54<01:06, 66.33s/it]"
     ]
    },
    {
     "name": "stdout",
     "output_type": "stream",
     "text": [
      "Extracting video: /home/meirtz/Desktop/mlnd/DeepTesla/data/epoch10_front.mkv.\n"
     ]
    },
    {
     "name": "stderr",
     "output_type": "stream",
     "text": [
      "100%|██████████| 10/10 [11:02<00:00, 67.02s/it]\n"
     ]
    }
   ],
   "source": [
    "# read video Data\n",
    "for i in tqdm(range(1, 11)):\n",
    "    video_path = video_path = os.path.abspath(os.path.expanduser(\"./data/epoch{:0>2d}_front.mkv\".format(i)))\n",
    "    csv_path = \"./data/epoch{:0>2d}_steering.csv\".format(i)\n",
    "    dir_name = \"./data/epoch{:0>2d}_front_frames\".format(i)\n",
    "    \n",
    "    print(\"Extracting video: {}.\".format(video_path))\n",
    "    os.mkdir(dir_name)\n",
    "    frame_id = pd.read_csv(csv_path)['ts_micro'].tolist()\n",
    "    video = skvideo.io.vreader(video_path)\n",
    "    count = 0\n",
    "    for frame in video:\n",
    "        cv2.imwrite(\"{}/{}.jpg\".format(dir_name, frame_id[count-1]), frame)\n",
    "        count += 1"
   ]
  },
  {
   "cell_type": "code",
   "execution_count": 11,
   "metadata": {},
   "outputs": [
    {
     "name": "stdout",
     "output_type": "stream",
     "text": [
      "[Errno 17] File exists: './data/epoch04_front_frames/1464303774991807.jpg' -> './images/train/1464303774991807.jpg'\n",
      "[Errno 17] File exists: './data/epoch06_front_frames/1464304044891807.jpg' -> './images/train/1464304044891807.jpg'\n"
     ]
    }
   ],
   "source": [
    "os.mkdir(\"./images\")\n",
    "os.mkdir(\"./images/train\")\n",
    "os.mkdir(\"./images/validation\")\n",
    "os.mkdir(\"./images/test\")\n",
    "\n",
    "# Create train dataset symlink\n",
    "for i in range(1, 8):\n",
    "    source_dir_name = \"./data/epoch{:0>2d}_front_frames/\".format(i)\n",
    "    traget_dir_name = \"./images/train/\"\n",
    "    for filename in os.listdir(source_dir_name):\n",
    "        if filename.endswith(\".jpg\"):\n",
    "            try:\n",
    "                os.symlink(source_dir_name+filename, traget_dir_name+filename)\n",
    "            except OSError as err:\n",
    "                print(err)\n",
    "            \n",
    "# Create validation dataset symlink\n",
    "for i in range(8, 9):\n",
    "    source_dir_name = \"./data/epoch{:0>2d}_front_frames/\".format(i)\n",
    "    traget_dir_name = \"./images/validation/\"\n",
    "    for filename in os.listdir(source_dir_name):\n",
    "        if filename.endswith(\".jpg\"):\n",
    "            try:\n",
    "                os.symlink(source_dir_name+filename, traget_dir_name+filename)\n",
    "            except OSError as err:\n",
    "                print(err)\n",
    "            \n",
    "# Create test dataset symlink\n",
    "for i in range(9, 11):\n",
    "    source_dir_name = \"./data/epoch{:0>2d}_front_frames/\".format(i)\n",
    "    traget_dir_name = \"./images/test/\"\n",
    "    for filename in os.listdir(source_dir_name):\n",
    "        if filename.endswith(\".jpg\"):\n",
    "            try:\n",
    "                os.symlink(source_dir_name+filename, traget_dir_name+filename)\n",
    "            except OSError as err:\n",
    "                print(err)"
   ]
  },
  {
   "cell_type": "markdown",
   "metadata": {
    "collapsed": true
   },
   "source": [
    "## Checkpoint\n"
   ]
  },
  {
   "cell_type": "markdown",
   "metadata": {},
   "source": [
    "划分数据集。epoch1-7为训练集，epoch9为验证集，epoch9和10为测试集。"
   ]
  },
  {
   "cell_type": "code",
   "execution_count": null,
   "metadata": {
    "collapsed": true
   },
   "outputs": [],
   "source": [
    "from keras.preprocessing.image import ImageDataGenerator\n",
    "\n",
    "def read_dataset(dataset_type):\n",
    "    datagen = ImageDataGenerator()\n",
    "    if dataset_type == \"train\":\n",
    "        for i in range(1, 8):\n",
    "            csv_path = \"./data/epoch{:0>2d}_steering.csv\".format(i)\n",
    "    elif dataset_type == \"validation\"\n",
    "    \n"
   ]
  }
 ],
 "metadata": {
  "kernelspec": {
   "display_name": "Python 3",
   "language": "python",
   "name": "python3"
  },
  "language_info": {
   "codemirror_mode": {
    "name": "ipython",
    "version": 3
   },
   "file_extension": ".py",
   "mimetype": "text/x-python",
   "name": "python",
   "nbconvert_exporter": "python",
   "pygments_lexer": "ipython3",
   "version": "3.5.3"
  }
 },
 "nbformat": 4,
 "nbformat_minor": 2
}
